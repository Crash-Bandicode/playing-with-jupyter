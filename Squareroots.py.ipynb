{
 "cells": [
  {
   "cell_type": "markdown",
   "metadata": {},
   "source": [
    "# <Center> <span style=\"color:cornflowerblue\">Square roots calculator:</span> <Center>"
   ]
  },
  {
   "cell_type": "markdown",
   "metadata": {},
   "source": [
    "We can calcuate the square root of a number using Newton's method [1].\n",
    "To find the square root $z$ of a number $x$, we can iterate using the following equation:\n",
    "\n",
    "<span style=\"color:chartreuse\">$$ z' = z - \\frac{z^2 - x} {2z} $$</span>\n",
    "\n",
    "[1] A tor of Go: Exercise: Loops and functions: https://tour.golang.org/flowcontrol/8 "
   ]
  },
  {
   "cell_type": "code",
   "execution_count": 13,
   "metadata": {},
   "outputs": [],
   "source": [
    "def sqrt(x):\n",
    "    \"\"\"\n",
    "    A funcction to calculate the square root of a number x.\n",
    "    \"\"\"\n",
    "    # initial guess for the square root z\n",
    "    z= x / 2\n",
    "    # Loop until we are happy with the accuracy.\n",
    "    while abs (x - (z * z)) > 0.001 : \n",
    "        # Calculate a better gues for the square root.\n",
    "        z -= (z*z - x) / (2 * z)\n",
    "        # Return the (approximate) square root of x.\n",
    "    return z"
   ]
  },
  {
   "cell_type": "markdown",
   "metadata": {},
   "source": [
    "## Tests of the function:\n",
    "Here we test the function with some known values."
   ]
  },
  {
   "cell_type": "code",
   "execution_count": 14,
   "metadata": {},
   "outputs": [
    {
     "data": {
      "text/plain": [
       "10.000046356507898"
      ]
     },
     "execution_count": 14,
     "metadata": {},
     "output_type": "execute_result"
    }
   ],
   "source": [
    "# Test the function on 100\n",
    "sqrt(100)"
   ]
  },
  {
   "cell_type": "code",
   "execution_count": 15,
   "metadata": {},
   "outputs": [
    {
     "data": {
      "text/plain": [
       "1.4142156862745099"
      ]
     },
     "execution_count": 15,
     "metadata": {},
     "output_type": "execute_result"
    }
   ],
   "source": [
    " # Test the value on 2.\n",
    "sqrt(2)"
   ]
  },
  {
   "cell_type": "code",
   "execution_count": 16,
   "metadata": {},
   "outputs": [
    {
     "data": {
      "text/plain": [
       "1.4142135623730951"
      ]
     },
     "execution_count": 16,
     "metadata": {},
     "output_type": "execute_result"
    }
   ],
   "source": [
    "# Verify accuracy\n",
    "import math\n",
    "math.sqrt(2)"
   ]
  }
 ],
 "metadata": {
  "kernelspec": {
   "display_name": "Python 3",
   "language": "python",
   "name": "python3"
  },
  "language_info": {
   "codemirror_mode": {
    "name": "ipython",
    "version": 3
   },
   "file_extension": ".py",
   "mimetype": "text/x-python",
   "name": "python",
   "nbconvert_exporter": "python",
   "pygments_lexer": "ipython3",
   "version": "3.8.3"
  }
 },
 "nbformat": 4,
 "nbformat_minor": 4
}
